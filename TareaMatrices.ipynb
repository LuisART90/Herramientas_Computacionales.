{
  "nbformat": 4,
  "nbformat_minor": 0,
  "metadata": {
    "colab": {
      "provenance": [],
      "include_colab_link": true
    },
    "kernelspec": {
      "name": "python3",
      "display_name": "Python 3"
    },
    "language_info": {
      "name": "python"
    }
  },
  "cells": [
    {
      "cell_type": "markdown",
      "metadata": {
        "id": "view-in-github",
        "colab_type": "text"
      },
      "source": [
        "<a href=\"https://colab.research.google.com/github/LuisART90/Herramientas_Computacionales./blob/main/TareaMatrices.ipynb\" target=\"_parent\"><img src=\"https://colab.research.google.com/assets/colab-badge.svg\" alt=\"Open In Colab\"/></a>"
      ]
    },
    {
      "cell_type": "markdown",
      "source": [
        "#TAREA E\n",
        "\n",
        "##Integrantes:\n",
        "- Lilibeth\n",
        "- Luis\n",
        "\n",
        "\n",
        "\n",
        "---\n",
        "\n",
        "\n",
        "\n",
        "1.   Sumas de matrices rectangulares."
      ],
      "metadata": {
        "id": "JALpP3pIwTzB"
      }
    },
    {
      "cell_type": "code",
      "source": [
        "#Se declaran matrices a sumar:\n",
        "#MATRIZ 1:\n",
        "A=[[1,2,3],[4,5,6],[7,8,9]]\n",
        "\n",
        "#MATRIZ 2:\n",
        "B=[[9,8,7],[6,5,4],[3,2,1]]"
      ],
      "metadata": {
        "id": "LawkTHSLwYpd"
      },
      "execution_count": null,
      "outputs": []
    },
    {
      "cell_type": "code",
      "source": [
        "#Función para imprimir matrices\n",
        "def imprimirMatriz(resultado):\n",
        "    for i in range(len(resultado)):\n",
        "        for j in range(len(resultado)):\n",
        "            print(\"\\t\", resultado[i][j], end=\" \")\n",
        "        print()"
      ],
      "metadata": {
        "id": "MssunPoS0Knu"
      },
      "execution_count": null,
      "outputs": []
    },
    {
      "cell_type": "code",
      "source": [
        "#Suma de matrices:\n",
        "'''\n",
        "1 2 3       9 8 7     10 10 10\n",
        "4 5 6   +   6 5 4  =  10 10 10\n",
        "7 8 9       3 2 1     10 10 10\n",
        "'''\n",
        "\n",
        "total=[] #Variable auxiliar para guardar la suma\n",
        "for i in range(len(A)): #Renglones\n",
        "  aux=[] #Variable auxiliar para guardar los resultados de un renglón\n",
        "  for j in range(len(A)): #Columnas\n",
        "    aux.append(A[i][j]+B[i][j]) #Se guarda suma de elemento en variable auxiliar\n",
        "    #Se completa la suma de elementos en renglón\n",
        "  total.append(aux)   #Se agrega ese renglón a la matriz final\n",
        "\n",
        "print('El resultado de la suma de matrices es')\n",
        "imprimirMatriz(total)"
      ],
      "metadata": {
        "colab": {
          "base_uri": "https://localhost:8080/"
        },
        "id": "bmtCt6aewbmB",
        "outputId": "8d8b8337-c622-4b8b-a404-079bf355468a"
      },
      "execution_count": null,
      "outputs": [
        {
          "output_type": "stream",
          "name": "stdout",
          "text": [
            "El resultado de la suma de matrices es\n",
            "\t 10.0 \t 10.0 \t 10.0 \n",
            "\t 10.0 \t 10.0 \t 10.0 \n",
            "\t 10.0 \t 10.0 \t 10.0 \n"
          ]
        }
      ]
    },
    {
      "cell_type": "markdown",
      "source": [
        "2.   Multiplicación entrada a entrada rectangulares.\n"
      ],
      "metadata": {
        "id": "Eo6dayNpwiZv"
      }
    },
    {
      "cell_type": "code",
      "source": [
        "#Multiplicación de matrices entrada a entrada:\n",
        "\n",
        "'''\n",
        "1 2 3       9 8 7     (1)(9) (2)(8) (3)(7)     9 16 21\n",
        "4 5 6   X   6 5 4  =  (4)(6) (5)(5) (6)(4)  = 24 25 24\n",
        "7 8 9       3 2 1     (7)(3) (8)(2) (9)(1)    21 16  9\n",
        "'''\n",
        "\n",
        "total=[] #Variable auxiliar para guardar la multiplicación\n",
        "for i in range(len(A)): #Renglones\n",
        "  aux=[] #Variable auxiliar para guardar los resultados de un renglón\n",
        "  for j in range(len(A)): #COmlunas\n",
        "    aux.append(A[i][j]*B[i][j]) #Se guarda multiplicacion de elemento en variable auxiliar\n",
        "    #Se completa la muoltiplicacion de elementos en renglón\n",
        "  total.append(aux)   #Se agrega ese renglón a la matriz final\n",
        "\n",
        "print('El resultado de la multiplicación de matrices elemento x elemento es:')\n",
        "imprimirMatriz(total)"
      ],
      "metadata": {
        "colab": {
          "base_uri": "https://localhost:8080/"
        },
        "id": "M2mpoEI1wlQ3",
        "outputId": "607e0cef-2b76-4f1e-b446-4cb77f8c4b58"
      },
      "execution_count": null,
      "outputs": [
        {
          "output_type": "stream",
          "name": "stdout",
          "text": [
            "El resultado de la multiplicación de matrices elemento x elemento es:\n",
            "\t 9.0 \t 16.0 \t 21.0 \n",
            "\t 24.0 \t 25.0 \t 24.0 \n",
            "\t 21.0 \t 16.0 \t 9.0 \n"
          ]
        }
      ]
    },
    {
      "cell_type": "markdown",
      "source": [
        "3.   Traza de una matriz\n"
      ],
      "metadata": {
        "id": "c32HauAIwpCS"
      }
    },
    {
      "cell_type": "code",
      "source": [
        "traza=0 #Variable auxiliar para guardar resultado\n",
        "for i in range(len(A)): #Renglones\n",
        "  for j in range(len(A)): #Columnas\n",
        "    if j==i: #Verifica que índices sean iguales para agarrar diagonal de la matriz\n",
        "      traza=traza + A[i][j] #Suma elementos de diagonal de la matriz\n",
        "\n",
        "print('La traza de la matriz A es: %d'%traza)"
      ],
      "metadata": {
        "colab": {
          "base_uri": "https://localhost:8080/"
        },
        "id": "9tfMjuGOwr6d",
        "outputId": "2cff4cc8-9f46-45be-abe3-14a51eb49ef6"
      },
      "execution_count": null,
      "outputs": [
        {
          "output_type": "stream",
          "name": "stdout",
          "text": [
            "La traza de la matriz A es: 15\n"
          ]
        }
      ]
    },
    {
      "cell_type": "markdown",
      "source": [
        "4. Transpuesta de una matriz"
      ],
      "metadata": {
        "id": "a4qvJWArwvym"
      }
    },
    {
      "cell_type": "code",
      "source": [
        "transpuesta=[] #Variable auxiliar para guardar matriz transpuesta\n",
        "\n",
        "for j in range(len(A)): #Columna\n",
        "  renglon=[] #Variable auxiliar para guardar resultado de columnas\n",
        "  for i in range(len(A)):  #Renglones\n",
        "    renglon.append(A[i][j])  #Guarda valores de 1° columna en 1° renglon auxiliar\n",
        "  transpuesta.append(renglon) #Guarda renglon en variable\n",
        "\n",
        "print('La matriz transpuesta es:')\n",
        "imprimirMatriz(transpuesta)"
      ],
      "metadata": {
        "colab": {
          "base_uri": "https://localhost:8080/"
        },
        "id": "H7suwCJvwyle",
        "outputId": "6abc7e77-b1b0-41c9-de28-ec96b26b8739"
      },
      "execution_count": null,
      "outputs": [
        {
          "output_type": "stream",
          "name": "stdout",
          "text": [
            "La matriz transpuesta es:\n",
            "\t 1.0 \t 4.0 \t 7.0 \n",
            "\t 2.0 \t 5.0 \t 8.0 \n",
            "\t 3.0 \t 6.0 \t 9.0 \n"
          ]
        }
      ]
    },
    {
      "cell_type": "markdown",
      "source": [
        "5. El máximo y mínimo elemento en una matriz."
      ],
      "metadata": {
        "id": "DmH2h_8mw25K"
      }
    },
    {
      "cell_type": "code",
      "execution_count": null,
      "metadata": {
        "id": "SeCdO3PK5BT_",
        "colab": {
          "base_uri": "https://localhost:8080/"
        },
        "outputId": "972956e0-e06e-4c35-8b32-f7b2b6932d6e"
      },
      "outputs": [
        {
          "output_type": "stream",
          "name": "stdout",
          "text": [
            "Introduce las filas de la matriz A: 1,2,3\n",
            "Introduce las filas de la matriz A: 4,5,6\n",
            "Introduce las filas de la matriz A: 7,8,9\n",
            "La matriz A es: [[1.0, 2.0, 3.0], [4.0, 5.0, 6.0], [7.0, 8.0, 9.0]]\n",
            "El valor mínimo en la matriz A es: 1.0\n",
            "El valor máximo en la matriz A es: 9.0\n"
          ]
        }
      ],
      "source": [
        "\n",
        "Dim_matriz_A=3\n",
        "A=[]\n",
        "for i in range(Dim_matriz_A):\n",
        "  a=input(\"Introduce las filas de la matriz A: \")\n",
        "  a=list(map(float,a.split((\",\"))))\n",
        "  A.append(a)\n",
        "print(\"La matriz A es:\", A)\n",
        "\n",
        "\n",
        "#Con comprensión de listas\n",
        "minimo=min(min(fila) for fila in A)\n",
        "maximo=max(max(fila) for fila in A)\n",
        "print(\"El valor mínimo en la matriz A es:\", minimo)\n",
        "print(\"El valor máximo en la matriz A es:\", maximo)\n",
        "\n",
        "\n"
      ]
    },
    {
      "cell_type": "markdown",
      "source": [
        "6. La suma del cuadrado de los elementos de una matriz."
      ],
      "metadata": {
        "id": "jkIZKQCww8R1"
      }
    },
    {
      "cell_type": "code",
      "source": [
        "#la suma del cuadrado de los elementos de una matriz\n",
        "Dim_matriz_A=2\n",
        "n=2 #Potencia a elevar la matriz\n",
        "A=[]\n",
        "for i in range(Dim_matriz_A):\n",
        "  a=input(\"Introduce las filas de la matriz A: \")\n",
        "  a=list(map(float,a.split((\",\"))))\n",
        "  A.append(a)\n",
        "print(\"La matriz A es:\", A)\n",
        "\n",
        "Suma=0\n",
        "for i in range(len(A)):\n",
        "  for j in range(len(A)):\n",
        "    Suma+=A[i][j]**n\n",
        "\n",
        "print(\"La suma de los elementos elevados a la potencia\",n,\"es\",Suma)\n"
      ],
      "metadata": {
        "colab": {
          "base_uri": "https://localhost:8080/"
        },
        "id": "syqZJSsiAEoN",
        "outputId": "b88cb42b-125d-4b26-92c2-1e1423679bbb"
      },
      "execution_count": null,
      "outputs": [
        {
          "output_type": "stream",
          "name": "stdout",
          "text": [
            "Introduce las filas de la matriz A: 4,5\n",
            "Introduce las filas de la matriz A: 7,2\n",
            "La matriz A es: [[4.0, 5.0], [7.0, 2.0]]\n",
            "La suma de los elementos elevados a la potencia 2 es 94.0\n"
          ]
        }
      ]
    },
    {
      "cell_type": "markdown",
      "source": [
        "7. La potencia de matrices."
      ],
      "metadata": {
        "id": "_Vtfi5W0xB63"
      }
    },
    {
      "cell_type": "code",
      "source": [
        "#Potencia de una matriz\n",
        "\n",
        "Dim_matriz_A=3\n",
        "n=2 #Potencia a elevar la matriz\n",
        "\n",
        "A=[]\n",
        "for i in range(Dim_matriz_A):\n",
        "  a=input(\"Introduce las filas de la matriz A: \")\n",
        "  a=list(map(float,a.split((\",\"))))\n",
        "  A.append(a)\n",
        "print(\"La matriz A es:\", A)\n",
        "\n",
        "#Pot_matriz=[] → Sólo da una lista y no un arreglo\n",
        "Pot_matriz=[[0]*Dim_matriz_A for _ in range(Dim_matriz_A)]\n",
        "for i in range(len(A)):\n",
        "  for j in range(len(A)):\n",
        "    Pot_matriz[i][j]=A[i][j]**n\n",
        "    #A_P=A[i][j]**n\n",
        "    #Pot_matriz.append(A_P)\n",
        "\n",
        "print(\"La potencia de la matriz es:\", Pot_matriz)"
      ],
      "metadata": {
        "colab": {
          "base_uri": "https://localhost:8080/"
        },
        "id": "QzVHqLYdAKAJ",
        "outputId": "55e5404d-dcba-44d2-e243-3a65ee9f6666"
      },
      "execution_count": null,
      "outputs": [
        {
          "output_type": "stream",
          "name": "stdout",
          "text": [
            "Introduce las filas de la matriz A: 1,2,3\n",
            "Introduce las filas de la matriz A: 4,5,6\n",
            "Introduce las filas de la matriz A: 7,8,9\n",
            "La matriz A es: [[1.0, 2.0, 3.0], [4.0, 5.0, 6.0], [7.0, 8.0, 9.0]]\n",
            "La potencia de la matriz es: [[1.0, 4.0, 9.0], [16.0, 25.0, 36.0], [49.0, 64.0, 81.0]]\n"
          ]
        }
      ]
    }
  ]
}